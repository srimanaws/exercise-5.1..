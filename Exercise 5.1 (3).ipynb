{
 "cells": [
  {
   "cell_type": "code",
   "execution_count": null,
   "id": "05163ffd-df4d-4289-a39e-082aeb0510fd",
   "metadata": {},
   "outputs": [],
   "source": [
    "# In-Class Activity 5 by sriman \n",
    "\n",
    "Exercise 5.1 What’s Wrong with This Code?\n",
    "\n",
    "a. day, high_temperature = ('Monday', 87, 65)\n",
    "\n",
    "Issue: We are trying to unpack 3 values from the tuple into only 2 variables, which will cause a ValueError.\n",
    "Fix: The number of variables on the left side should match the number of values in the tuple:\n",
    "\n",
    "Fixed code : day, high_temperature, low_temperature = ('Monday', 87, 65)"
   ]
  },
  {
   "cell_type": "code",
   "execution_count": null,
   "id": "d158d9d9-bce8-4916-af7a-949b1b5c8cc0",
   "metadata": {},
   "outputs": [],
   "source": [
    "b. numbers = [1, 2, 3, 4, 5] numbers[10]\n",
    "\n",
    "Issue: The list numbers contains 5 elements, and accessing index 10 (which doesn't exist) will raise an IndexError.\n",
    "Fix: We should ensure that the index is within the valid range (0 to 4 for this list):\n",
    "\n",
    "# Example of valid access:\n",
    "Fixed code: numbers[2]"
   ]
  },
  {
   "cell_type": "code",
   "execution_count": null,
   "id": "9aab9cf6-5130-40fd-bb6c-36538eca93fc",
   "metadata": {},
   "outputs": [],
   "source": [
    "c. name = 'amanda' name[0] = 'A'\n",
    "\n",
    "Issue: Strings in Python are immutable, meaning we cannot change individual characters after they are created. Attempting to modify name[0] will raise a TypeError.\n",
    "Fix: We can create a new string by combining 'A' with the rest of the string:\n",
    "\n",
    "Fixed code: name = 'A' + name[1:]"
   ]
  },
  {
   "cell_type": "code",
   "execution_count": null,
   "id": "db4aaf51-d33c-4ce4-aeb1-d9f73e42a49b",
   "metadata": {},
   "outputs": [],
   "source": [
    "d. numbers = [1, 2, 3, 4, 5] numbers[3.4]\n",
    "\n",
    "Issue: List indices must be integers. Using a float as an index will raise a TypeError.\n",
    "Fix: We should use an integer index:\n",
    "\n",
    "Fixed code: numbers[3]"
   ]
  },
  {
   "cell_type": "code",
   "execution_count": null,
   "id": "51988def-2cfc-41df-90cb-68bb6a1cad41",
   "metadata": {},
   "outputs": [],
   "source": [
    "e. student_tuple = ('Amanda', 'Blue', [98, 75, 87]) student_tuple[0] = 'Ariana'\n",
    "\n",
    "Issue: Tuples are immutable, so we cannot modify their elements. Attempting to assign a new value to student_tuple[0] will raise a TypeError.\n",
    "Fix: If we need to modify the values, we can use a list instead of a tuple."
   ]
  },
  {
   "cell_type": "code",
   "execution_count": null,
   "id": "930988c0-2fb0-45e7-b91d-43650f529ec3",
   "metadata": {},
   "outputs": [],
   "source": [
    "f. ('Monday', 87, 65) + 'Tuesday'\n",
    "\n",
    "Issue: We cannot concatenate a tuple with a string, as they are different data types. This will raise a TypeError.\n",
    "Fix: We can convert 'Tuesday' into a tuple before concatenating:\n",
    "Fixed code: ('Monday', 87, 65) + ('Tuesday',)"
   ]
  },
  {
   "cell_type": "code",
   "execution_count": null,
   "id": "0b0f0215-588f-4a19-85a5-c857dbbb9a8d",
   "metadata": {},
   "outputs": [],
   "source": [
    "g. 'A' += ('B', 'C')\n",
    "\n",
    "Issue: We cannot use += to combine a string and a tuple, as they are different data types. This will raise a TypeError.\n",
    "Fix: We can combine strings only:\n",
    "Fixed code: 'A' += 'B' + 'C'"
   ]
  },
  {
   "cell_type": "code",
   "execution_count": null,
   "id": "3c0c7fdd-fcc7-4a07-b502-7fc0903b9f15",
   "metadata": {},
   "outputs": [],
   "source": [
    "h. x = 7 del x print(x)\n",
    "\n",
    "Issue: After deleting x, attempting to print it will raise a NameError, as x no longer exists.\n",
    "Fix: We should avoid using a variable after it has been deleted, or remove the del statement."
   ]
  },
  {
   "cell_type": "code",
   "execution_count": null,
   "id": "3ec5e432-4dc6-401c-9acd-44aa1d98b936",
   "metadata": {},
   "outputs": [],
   "source": [
    "i. numbers = [1, 2, 3, 4, 5] numbers.index(10)\n",
    "\n",
    "Issue: The number 10 is not in the list, so calling index(10) will raise a ValueError.\n",
    "Fix: We should check if the number exists in the list before calling index:\n",
    "\n",
    "Fixed code: if 10 in numbers:\n",
    "    numbers.index(10)"
   ]
  },
  {
   "cell_type": "code",
   "execution_count": null,
   "id": "16dfe80a-a04d-4f60-9ab3-41d32773955b",
   "metadata": {},
   "outputs": [],
   "source": [
    "j. numbers = [1, 2, 3, 4, 5] numbers.extend(6, 7, 8)\n",
    "\n",
    "Issue: The extend method expects a single iterable (like a list or tuple), not individual integers. This will raise a TypeError.\n",
    "Fix: We can pass the numbers as a list or another iterable:\n",
    "\n",
    "Fixed code: numbers.extend([6, 7, 8])"
   ]
  },
  {
   "cell_type": "code",
   "execution_count": null,
   "id": "aadbaa2c-9b95-4f20-b502-a2ad1228facb",
   "metadata": {},
   "outputs": [],
   "source": [
    "k. numbers = [1, 2, 3, 4, 5] numbers.remove(10)\n",
    "\n",
    "Issue: The number 10 is not in the list, so trying to remove it will raise a ValueError.\n",
    "Fix: We should ensure that the value exists in the list before attempting to remove it:\n",
    "\n",
    "Fixed code: if 10 in numbers:\n",
    "    numbers.remove(10)"
   ]
  },
  {
   "cell_type": "code",
   "execution_count": null,
   "id": "e334a39e-0625-47f4-88ec-3e394679d6ae",
   "metadata": {},
   "outputs": [],
   "source": [
    "l. values = [] values.pop()\n",
    "\n",
    "Issue: The pop() method removes and returns the last element of a list, but if the list is empty, it will raise an IndexError.\n",
    "Fix: We should check that the list is not empty before calling pop():\n",
    "Fixed code: if values:\n",
    "    values.pop()"
   ]
  }
 ],
 "metadata": {
  "kernelspec": {
   "display_name": "Python 3 (ipykernel)",
   "language": "python",
   "name": "python3"
  },
  "language_info": {
   "codemirror_mode": {
    "name": "ipython",
    "version": 3
   },
   "file_extension": ".py",
   "mimetype": "text/x-python",
   "name": "python",
   "nbconvert_exporter": "python",
   "pygments_lexer": "ipython3",
   "version": "3.12.4"
  }
 },
 "nbformat": 4,
 "nbformat_minor": 5
}
